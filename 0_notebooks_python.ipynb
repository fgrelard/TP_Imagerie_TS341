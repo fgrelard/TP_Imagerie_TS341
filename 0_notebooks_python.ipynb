{
 "cells": [
  {
   "cell_type": "markdown",
   "id": "33e179d9",
   "metadata": {
    "collapsed": false
   },
   "source": [
    "# Notebook et Python\n",
    "\n",
    "### Jupyter notebook \n",
    "\n",
    "Un **notebook** est un espace de travail où l'on peut combiner du code ainsi que du texte. Il permet d'exécuter du code Python dans le navigateur.\n",
    "\n",
    "Le notebook est décomposé en **cellules**: elles correspondent aux blocs de code et de texte. Chaque cellule peut-être exécutée indépendamment. Les variables définies dans une cellule sont globales au notebook. Elles sont connues dans les autres cellules.\n",
    "\n",
    "Les variables et fonctions définies dans une cellule peuvent dont être **réutilisées plus tard**.\n",
    "\n",
    "Pour exécuter une cellule : bouton \"Run\" ou raccourci **Ctrl + Entrée**.\n",
    "\n",
    "Vous pouvez également éditer le code dans votre éditeur préféré.\n",
    "\n",
    "### Mémo Python\n",
    "\n",
    "Ce premier TP vise à vous faire manipuler les images en Python, via les bibliothèques :\n",
    "1. `numpy`: manipulation des matrices\n",
    "2. `scikit`: opérations courantes d'analyse d'images\n",
    "3. `matplotlib`: affichage des images, graphiques\n",
    "\n",
    "Les images sont des matrices de type `numpy.ndarray`. Elles ont deux dimensions spatiales (largeur, hauteur), ainsi qu'éventuellement une dimension de couleur (RGB).\n",
    "Les indices vont de 0 à n-1.\n",
    "\n",
    "Les dimensions de l'image sont données dans l'attribut `shape` de la matrice. \n",
    "\n",
    "On peut accéder à une valeur dans la matrice par la syntaxe: `matrice[x, y]`.\n",
    "\n",
    "On peut accéder à un intervalle de valeurs par la syntaxe: `matrice[x1:x2, y1:y2]`.\n",
    "\n",
    "On peut extraire l'ensemble des valeurs de la deuxième colonne par la syntaxe : `matrice[:, 1]`.\n",
    "\n",
    "La multiplication de matrices se fait élément par élément\n",
    "\n",
    "Pour afficher plusieurs images côte à côte avec `matplotlib`:\n",
    "\n",
    "    fig, ax = plt.subplots(1, 2)\n",
    "    ax[0].imshow(ma_premiere_image)\n",
    "    ax[1].imshow(ma_seconde_image)\n",
    "    plt.show()\n",
    "    \n",
    "\n",
    "Consultez la documentation des bibliothèques au besoin. \n",
    "Quelques liens utiles:\n",
    "* [Aide mémoire numpy](https://www.labri.fr/perso/renault/working/teaching/algonum/sheet.php)\n",
    "* [Documentation numpy](https://numpy.org/doc/stable/reference/)\n",
    "* [Documentation scipy](https://docs.scipy.org/doc/scipy/reference/)\n",
    "* [Tutoriel Python](https://docs.python.org/fr/3/tutorial/index.html)\n",
    "* [Tutoriel Numpy/Matplotlib](https://www.math.univ-toulouse.fr/~pmaillar/cours/modelisation2020/liste%20de%20commandes%20Python.pdf)\n",
    "* [Tutoriel skimage](https://www.cours-gratuit.com/tutoriel-python/tutoriel-python-les-bases-de-traitement-dimages-avec-scikit-image)"
   ]
  }
 ],
 "metadata": {
  "kernelspec": {
   "argv": [
    "/home/fgrelard/Documents/Enseignements/ImagerieRobotique/TP/notebooks/venv/bin/python",
    "-m",
    "ipykernel_launcher",
    "-f",
    "{connection_file}"
   ],
   "display_name": "my-virtualenv-name",
   "env": null,
   "interrupt_mode": "signal",
   "language": "python",
   "metadata": {
    "debugger": true
   },
   "name": "my-virtualenv-name"
  },
  "name": "0_notebooks_python.ipynb"
 },
 "nbformat": 4,
 "nbformat_minor": 5
}
