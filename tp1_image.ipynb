{
 "cells": [
  {
   "cell_type": "markdown",
   "id": "636f4ace",
   "metadata": {
    "collapsed": false
   },
   "source": [
    "# TP 1 - Manipulation des images"
   ]
  },
  {
   "cell_type": "markdown",
   "id": "2224bc81",
   "metadata": {
    "collapsed": false
   },
   "source": [
    "## Image et couleur\n",
    "\n",
    "### 1. Affichage des différents canaux\n",
    "\n",
    "L'objectif de ce TP est de vous faire manipuler les canaux couleur d'une image.\n",
    "\n",
    "**Exercice**: Complétez ce code pour afficher les 3 canaux R, G, B de l'image.\n",
    "Consultez la documentation de `plt.imshow` pour afficher ces canaux en niveaux de gris."
   ]
  },
  {
   "cell_type": "code",
   "execution_count": null,
   "id": "36c52394",
   "metadata": {
    "collapsed": false
   },
   "outputs": [],
   "source": [
    "import numpy as np\n",
    "import matplotlib.pyplot as plt\n",
    "import skimage\n",
    "\n",
    "#Chemin vers l'image\n",
    "filename = \"data/home.jpg\"\n",
    "\n",
    "#On ouvre l'image: la variable image renferme une matrice numpy.\n",
    "image = skimage.io.imread(filename)\n",
    "\n",
    "#Différents attributs intéressants\n",
    "shape = image.shape\n",
    "nb_dim = image.ndim\n",
    "\n",
    "#Accès à l'intensité du premier pixel\n",
    "intensity_first_pixel = image[0, 0]\n",
    "\n",
    "print(\"La taille de l'image (hauteur, largeur, canaux) est \", shape)\n",
    "\n",
    "#On affiche l'image\n",
    "plt.imshow(image)\n",
    "plt.axis(\"off\")\n",
    "plt.show()"
   ]
  },
  {
   "cell_type": "markdown",
   "id": "ab9aa53c",
   "metadata": {
    "collapsed": false
   },
   "source": [
    "### 2. Manipulation de l'espace YCbCr\n",
    "\n",
    "L'espace YCbCr sépare la luminance (canal **Y**) et les chrominances (**Cb** et **Cr**)\n",
    "\n",
    "Les formules pour l'obtention des canaux sont les suivantes:\n",
    "\n",
    "Y = 0.299R + 0.587G + 0.114B\n",
    "Cb = 0.564 * (B - Y) + 128\n",
    "Cb = 0.713 * (R - Y) + 128\n",
    "\n",
    "**Exercice**: Complétez le code suivant :\n",
    "* Décomposez l'image précédente dans l'espace YCbCr et affichez ces 3 canaux.\n",
    "* Comparez le canal **Y** avec la moyenne des canaux RGB. "
   ]
  },
  {
   "cell_type": "code",
   "execution_count": null,
   "id": "554f0f25",
   "metadata": {
    "collapsed": false
   },
   "outputs": [],
   "source": [
    "#Y = ...\n",
    "#Cb = ...\n",
    "#Cr = ...\n",
    "\n",
    "mean_rgb = np.mean(image, axis=2)\n",
    "\n",
    "fig, ax = plt.subplots(1, 4)\n",
    "ax[0].imshow(mean_rgb)\n",
    "\n",
    "#On enlève les graduations pour chaque axe\n",
    "[axi.set_axis_off() for axi in ax]\n",
    "plt.show()"
   ]
  },
  {
   "cell_type": "markdown",
   "id": "21bdbe85",
   "metadata": {
    "collapsed": false
   },
   "source": [
    "### 3. Effet esquisse\n",
    "\n",
    "On souhaite obtenir un effet d'esquisse de notre image, de façon similaire à l'image suivante:\n",
    "\n",
    "<table>\n",
    "    <tr>\n",
    "    <td>\n",
    "        <img src=\"data/home.jpg\" width=\"400\" /> \n",
    "    </td>\n",
    "    <td>    \n",
    "        <img src=\"data/home_esquisse.png\" width=\"400\" /> </td>\n",
    "    </tr>\n",
    "</table>\n",
    "\n",
    "L'effet esquisse est obtenu en suivant les étapes suivantes:\n",
    "1. Extraction d'une image de contours $C$\n",
    "2. Pondération du canal $Y$ par les contours $C$ :  $Y' = (1-\\alpha) * C + \\alpha * Y$ où $\\alpha \\in [0, 1]$.\n",
    "3. Reconstruction d'une image RGB en utilisant le nouveau canal $Y'$.\n",
    "\n",
    "**Exercice** : Complétez le code suivant.\n",
    "\n",
    "**NB**: concernant l'étape 3, on pourra utiliser la fonction `ycbcr2rgb` du module `color` de `skimage`. \n",
    "\n",
    "Cette fonction attend une matrice HxLxC où C sont les canaux Y, Cb et Cr. On pourra la créer en utilisant la fonction `np.stack`."
   ]
  },
  {
   "cell_type": "code",
   "execution_count": null,
   "id": "e5425b59",
   "metadata": {
    "collapsed": false
   },
   "outputs": [],
   "source": [
    "#On extrait l'image de contours par\n",
    "#l'algorithme de Canny\n",
    "C = skimage.feature.canny(Y/255)\n",
    "\n",
    "#On inverse l'image de contours\n",
    "C = (1-C)*255\n",
    "\n",
    "alpha = 0.5\n",
    "\n",
    "# Y_new = ...\n",
    "\n",
    "#Conversion de l'image Y'CbCr vers RGB\n",
    "\n",
    "#Affichage de l'image"
   ]
  },
  {
   "cell_type": "markdown",
   "id": "1202fce4",
   "metadata": {
    "collapsed": false
   },
   "source": [
    "### 4. Bonus : Compression YCbCr\n",
    "\n",
    "Un autre intérêt de l'espace YCbCr est que l'on peut compresser l'image avec une perte minimale d'information. Le principe est de réduire les informations de chrominance et de laisser le canal de luminance inchangé. La perception de la qualité d'une image par un observateur est en effet davantage sensible à la luminance qu'à la chrominance.\n",
    "\n",
    "L'idée est ici de compresser les canaux Cb et Cr en réduisant la taille et restaurant ensuite les images à leur taille originale.\n",
    "\n",
    "\n",
    "**Exercice**: Complétez le code suivant.\n",
    "\n",
    "**NB**: Pour changer la taille d'une image, on pourra s'aider de la taille `resize` du module `transform` de `skimage`.\n",
    "\n",
    "Pour réduire la taille, on pourra essayer diverses valeurs de division de la taille (cf. variable `ratio`)."
   ]
  },
  {
   "cell_type": "code",
   "execution_count": null,
   "id": "cb05173d",
   "metadata": {
    "collapsed": false
   },
   "outputs": [],
   "source": [
    "#Facteur de division de la taille\n",
    "ratio = 2\n",
    "\n",
    "#Changement taille du canal Cr et Cb\n",
    "#skimage.transform.resize(mon_image, [hauteur/ratio, largeur/ratio])\n",
    "\n",
    "#Restauration de la taille des canaux\n",
    "\n",
    "#Conversion ycbcr vers RGB\n",
    "\n",
    "#Affichage de l'image et comparaison avec l'image originale"
   ]
  },
  {
   "cell_type": "markdown",
   "id": "59e92acf",
   "metadata": {
    "collapsed": false
   },
   "source": [
    "### 5. Bonus: chroma-keying\n",
    "\n",
    "Le \"chroma-keying\" ou \"incrustation en chrominance\" est une technique de fusion d'images en couleurs. La méthode consiste à isoler puis remplacer les pixels \"de fond\" d'une image, de couleur caractéristique, par les pixels correspondants d'une seconde image. Un exemple type est le fond vert dans les films, qui permet d'insérer un arrière-plan du choix du réalisateur. Son usage remonte aux débuts du cinéma couleur (années 1940).\n",
    "\n",
    "<table>\n",
    "<tr>\n",
    "    <td>\n",
    "        <img src=\"data/metro.jpg\" width=\"300\" /> \n",
    "    </td>\n",
    "    <td>    \n",
    "        <img src=\"data/people.jpg\" width=\"300\" /> \n",
    "    </td>\n",
    "    <td>    \n",
    "        <img src=\"data/resultat_chroma_keying.png\" width=\"300\" /> \n",
    "    </td>\n",
    "</tr>\n",
    "</table>\n",
    "\n",
    "L'idée est ici d'obtenir un masque binaire (0-255) à partir d'un seuillage sur un canal Y, Cb ou Cr de l'image avec le fond bleu.\n",
    "\n",
    "<img src=\"data/seuil.png\" width=\"300\" />\n",
    "\n",
    "* Lorsque la valeur du masque est égale à 0, on utilise les intensités de l'image en avant-plan\n",
    "* Lorsque la valeur du masque est égale à 255, on conserve les intensités de l'image en arrière-plan.\n",
    "\n",
    "\n",
    "**Exercice**: Complétez le code suivant.\n",
    "1. On convertit chaque image dans l'espace YCbCr (fonction associée de `skimage`). \n",
    "Affichez et analysez chaque canal. \n",
    "Quel canal semble le plus indiqué pour obtenir le masque binaire?\n",
    "2. Seuillez l'image pour obtenir le masque binaire. Vous pouvez vous aider de la fonction `np.where`. Affichez le masque.\n",
    "3. Créer une nouvelle image où chaque canal Y'Cb'Cr' résulte de la fusion des deux images, en utilisant le masque binaire.\n",
    "4. Convertissez cette nouvelle image dans l'espace RGB et affichez-la."
   ]
  },
  {
   "cell_type": "code",
   "execution_count": null,
   "id": "110ceb17",
   "metadata": {
    "collapsed": false
   },
   "outputs": [],
   "source": [
    "image_front = skimage.io.imread(\"data/people.jpg\")\n",
    "image_back = skimage.io.imread(\"data/metro.jpg\")\n",
    "\n",
    "image_front_ycbcr = skimage.color.rgb2ycbcr(image_front)\n",
    "image_back_ycbcr = skimage.color.rgb2ycbcr(image_back)\n",
    "\n",
    "# Détermination du masque binaire (0, 255) en fonction des canaux YCbCr\n",
    "# mask = ...\n",
    "\n",
    "# Détermination de l'image avec chroma keying\n",
    "# image_new = ...\n",
    "\n",
    "# On reconvertit vers RGB\n",
    "# image_new = skimage.color.ycbcr2rgb(image_new)\n",
    "\n",
    "# Affichage de l'image"
   ]
  }
 ],
 "metadata": {
  "kernelspec": {
   "argv": [
    "/home/fgrelard/Documents/Enseignements/ImagerieRobotique/TP/notebooks/venv/bin/python",
    "-m",
    "ipykernel_launcher",
    "-f",
    "{connection_file}"
   ],
   "display_name": "my-virtualenv-name",
   "env": null,
   "interrupt_mode": "signal",
   "language": "python",
   "metadata": {
    "debugger": true
   },
   "name": "my-virtualenv-name"
  },
  "language_info": {
   "codemirror_mode": {
    "name": "ipython",
    "version": 3
   },
   "file_extension": ".py",
   "mimetype": "text/x-python",
   "name": "python",
   "nbconvert_exporter": "python",
   "pygments_lexer": "ipython3",
   "version": "3.8.0"
  },
  "name": "tp1_image.ipynb"
 },
 "nbformat": 4,
 "nbformat_minor": 5
}
