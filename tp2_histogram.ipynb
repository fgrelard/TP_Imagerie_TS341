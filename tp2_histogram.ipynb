{
 "cells": [
  {
   "cell_type": "markdown",
   "id": "5490f880",
   "metadata": {
    "collapsed": false
   },
   "source": [
    "# TP 2 - Histogramme\n",
    "\n",
    "L'objectif de ce TP est de manipuler les histogrammes pour corriger le constraste d'une image.\n",
    "\n",
    "## 1. Calcul d'histogramme\n",
    "\n",
    "On cherche à afficher l'histogramme d'une image."
   ]
  },
  {
   "cell_type": "code",
   "execution_count": null,
   "id": "0f15e099",
   "metadata": {
    "collapsed": false
   },
   "outputs": [],
   "source": [
    "import numpy as np\n",
    "import matplotlib.pyplot as plt\n",
    "import skimage\n",
    "\n",
    "filename = \"data/frontier.jpg\"\n",
    "image = skimage.io.imread(filename)\n",
    "\n",
    "plt.imshow(image)\n",
    "plt.axis(\"off\")\n",
    "plt.show()"
   ]
  },
  {
   "cell_type": "markdown",
   "id": "fbe69bfd",
   "metadata": {
    "collapsed": false
   },
   "source": [
    "On rappelle l'algorithme de calcul de l'histogramme:\n",
    "\n",
    "    Initialisation d'un tableau H pouvant contenir 256 valeurs\n",
    "    for each pixel (x,y) in I:\n",
    "        intensity = I[x,y]\n",
    "        H[intensity] += 1\n",
    "        \n",
    "**Exercice**: Complétez le code suivant:\n",
    "\n",
    "Pour l'affichage de l'histogramme, on pourra utiliser la fonction `plt.plot`. "
   ]
  },
  {
   "cell_type": "code",
   "execution_count": null,
   "id": "9777bce2",
   "metadata": {
    "collapsed": false
   },
   "outputs": [],
   "source": [
    "def histogram_computation(image):\n",
    "    \"\"\"\n",
    "    Calcul d'histogramme\n",
    "\n",
    "    Parameters\n",
    "    ----------\n",
    "    image: np.ndarray\n",
    "           Image\n",
    "\n",
    "    Returns\n",
    "    -------\n",
    "    np.array\n",
    "           Histogram\n",
    "    \"\"\"\n",
    "    print(image.shape)\n",
    "\n",
    "#Calcul de l'histogramme\n",
    "histogram = histogram_computation(image)\n",
    "\n",
    "#Affichage de l'histogramme"
   ]
  },
  {
   "cell_type": "markdown",
   "id": "e56ea580",
   "metadata": {
    "collapsed": false
   },
   "source": [
    "## 2. Calcul d'histogramme sur une image couleur\n",
    "\n",
    "Affichez l'histogramme d'une image couleur: on a une courbe par canal. Chaque courbe sera affichée selon la couleur du canal ssocié (rouge, verte et bleue)."
   ]
  },
  {
   "cell_type": "code",
   "execution_count": null,
   "id": "0bc35372",
   "metadata": {
    "collapsed": false
   },
   "outputs": [],
   "source": [
    "image_moonwalk = skimage.io.imread(\"data/moonwalk.jpg\")\n",
    "\n",
    "# Calcul des histogrammes R,G,B\n",
    "# ...\n",
    "\n",
    "# Affichage des histogrammes sur le même graphique\n",
    "# La couleur de la courbe correspond à la couleur du canal"
   ]
  },
  {
   "cell_type": "markdown",
   "id": "ae953b04",
   "metadata": {
    "collapsed": false
   },
   "source": [
    "## 3. Egalisation d'histogramme\n",
    "\n",
    "L'objectif de cet exercice est de corriger les défauts de contraste d'une image par **égalisation de l'histogramme**.\n",
    "\n",
    "L'égalisation consiste à répartir les intensités de l'image l'ensemble de sa gamme dynamique. Le principe est de faire en sorte que l'histogramme cumulé ait un profil linéaire.\n",
    "\n",
    "**Exercice**: Complétez le code suivant:\n",
    "1. Complétez la fonction `cumul_histogram()` qui prend un histogramme en paramètre et retourne l'histogramme cumulé.\n",
    "2. Normalisez l'histogramme cumulé pour qu'il reflète une fréquence d'apparition d'une valeur comprise entre 0 et 1.\n",
    "3. Calculez les nouvelles intensités pour chaque pixel en utilisant la formule suivante: $I' = 255 * H_{\\text{cumul}}[I]$."
   ]
  },
  {
   "cell_type": "code",
   "execution_count": null,
   "id": "d6c35a11",
   "metadata": {
    "collapsed": false
   },
   "outputs": [],
   "source": [
    "def cumul_histogram(histogram):\n",
    "    \"\"\"\n",
    "    Calcul de l'histogramme cumulé\n",
    "    \n",
    "    Parameters\n",
    "    ----------\n",
    "    histogram: np.array\n",
    "               Histogramme\n",
    "               \n",
    "    Returns\n",
    "    -------\n",
    "    np.array\n",
    "        Histogramme cumulé\n",
    "    \"\"\"\n",
    "    print(histogram.shape)\n",
    "\n",
    "image_fonce = skimage.io.imread(\"data/fonce.jpg\")\n",
    "\n",
    "# histogram_fonce = histogram_computation(image_fonce)\n",
    "\n",
    "# 1. Calcul de l'histogramme cumulé\n",
    "# cumul_h = cumul_histogram(histogram_fonce)\n",
    "\n",
    "# 2. Normalisation de l'histogramme cumulé\n",
    "\n",
    "# 3. Calcul des nouvelles intensités de l'image\n",
    "\n",
    "# Affichage de l'image égalisée"
   ]
  },
  {
   "cell_type": "markdown",
   "id": "6d318089",
   "metadata": {
    "collapsed": false
   },
   "source": [
    "## 4. Seuillage\n",
    "\n",
    "L'image égalisée reste toutefois très bruitée par la présence de pixels blancs aberrants. Nous souhaitons seuiller l’image afin de supprimer le bruit.\n",
    "\n",
    "**Exercice**:\n",
    "* Dans la fonction `seuillage()`, calculez l'image seuillée à partir de l’image égalisée. Mettre les pixels au-dessus du seuil à la couleur noire, sinon conserver leur intensité originale.\n",
    "\n",
    "* Ce seuil permet-il de supprimer tout le bruit et de conserver les détails ?"
   ]
  },
  {
   "cell_type": "code",
   "execution_count": null,
   "id": "42d68adc",
   "metadata": {
    "collapsed": false
   },
   "outputs": [],
   "source": [
    "def seuillage(image, threshold):\n",
    "    \"\"\"\n",
    "    Fonction de seuillage d'une image\n",
    "    Si l'intensité d'un pixel est inférieure au seuil, \n",
    "    elle est remplacée par du noir.\n",
    "    Sinon, on conserve l'intensité originale.\n",
    "    \n",
    "    Parameters\n",
    "    ----------\n",
    "    image: np.ndarray\n",
    "           image\n",
    "    threshold: int\n",
    "           seuil\n",
    "           \n",
    "    Returns\n",
    "    -------\n",
    "    np.ndarray\n",
    "          image seuillée\n",
    "          \n",
    "    print(threshold)\n",
    "    \"\"\"\n",
    "    \n",
    "thresholded_image = seuillage(equalized_image)\n",
    "\n",
    "# Affichage de l'image\n",
    "# ..."
   ]
  }
 ],
 "metadata": {
  "kernelspec": {
   "argv": [
    "python",
    "-m",
    "ipykernel_launcher",
    "-f",
    "{connection_file}"
   ],
   "display_name": "Python 3 (ipykernel)",
   "env": null,
   "interrupt_mode": "signal",
   "language": "python",
   "metadata": {
    "debugger": true
   },
   "name": "python3"
  },
  "language_info": {
   "codemirror_mode": {
    "name": "ipython",
    "version": 3
   },
   "file_extension": ".py",
   "mimetype": "text/x-python",
   "name": "python",
   "nbconvert_exporter": "python",
   "pygments_lexer": "ipython3",
   "version": "3.8.0"
  },
  "name": "tp2_histogram.ipynb"
 },
 "nbformat": 4,
 "nbformat_minor": 5
}
